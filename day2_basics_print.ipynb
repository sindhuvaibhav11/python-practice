{
 "cells": [
  {
   "cell_type": "code",
   "execution_count": 2,
   "id": "b677e657",
   "metadata": {},
   "outputs": [
    {
     "name": "stdout",
     "output_type": "stream",
     "text": [
      "HiHiHiHiHi\n"
     ]
    }
   ],
   "source": [
    "#Given two inputs that are stored in variables a and n, you need to print a, n times in a single line without space between them. Output must have a newline at the end.\n",
    "\n",
    "a = input()\n",
    "n = int(input())\n",
    "print(a*n)"
   ]
  },
  {
   "cell_type": "code",
   "execution_count": 1,
   "id": "f04f9569",
   "metadata": {},
   "outputs": [
    {
     "name": "stdout",
     "output_type": "stream",
     "text": [
      "hello world\n",
      "hello worldhello&world\n",
      "helloworld\n"
     ]
    }
   ],
   "source": [
    "a = input(\"Enter value of a :\", )\n",
    "b = input(\"Enter value of b :\", )\n",
    "separator = '&'\n",
    "print(a,b)\n",
    "print(a,b,end=\"\")\n",
    "print(a,b,sep=separator)\n",
    "print(f\"{a}{b}\")\n"
   ]
  },
  {
   "cell_type": "code",
   "execution_count": null,
   "id": "18d0a6b2",
   "metadata": {},
   "outputs": [],
   "source": [
    "\"\"\" You are given two variables, a and b. Your task is to print these variables in the following formats:\n",
    "\n",
    "With space: Print a and b in a single line, separated by a space, followed by a newline.\n",
    "Without newline: Print a and b separated by a space, but do not end the output with a newline.\n",
    "With separator: Print a and b separated by a specified separator, followed by a newline.\n",
    "Without space: Print a and b in a single line, with no spaces between them, followed by a newline. \"\"\""
   ]
  },
  {
   "cell_type": "code",
   "execution_count": 4,
   "id": "63ab679c",
   "metadata": {},
   "outputs": [
    {
     "name": "stdout",
     "output_type": "stream",
     "text": [
      "666666&4444\n"
     ]
    }
   ],
   "source": [
    "#Input: a = 6, b = 4, c = & Output: 666666&4444\n",
    "#Explanation: 6 printed 6 times and 4 printed 4 times seperated by c = &.\n",
    "a,b,c = input()\n",
    "print(a*int(a), b*int(b),sep =c)\n"
   ]
  }
 ],
 "metadata": {
  "kernelspec": {
   "display_name": "Python 3",
   "language": "python",
   "name": "python3"
  },
  "language_info": {
   "codemirror_mode": {
    "name": "ipython",
    "version": 3
   },
   "file_extension": ".py",
   "mimetype": "text/x-python",
   "name": "python",
   "nbconvert_exporter": "python",
   "pygments_lexer": "ipython3",
   "version": "3.12.1"
  }
 },
 "nbformat": 4,
 "nbformat_minor": 5
}
